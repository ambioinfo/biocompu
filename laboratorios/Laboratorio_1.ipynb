{
  "cells": [
    {
      "cell_type": "markdown",
      "metadata": {
        "id": "YHcPWQ7kBf95"
      },
      "source": [
        "# Laboratorio 1: Clasificación de pacientes con diabetes"
      ]
    },
    {
      "cell_type": "markdown",
      "metadata": {
        "id": "0RULYskvBngE"
      },
      "source": [
        "El objetivo de este laboratorio es que puedan aplicar las técnicas aprendidas en la [Clase Práctica 1](https://colab.research.google.com/drive/16xzoEZ8oNvtmgDMMOdtNMAdyltz7MWWZ?authuser=2&hl=es) para resolver la clasificar pacientes con diabetes. \n",
        "\n",
        "En particular, trabajaremos con el *Pima Indians Diabetes Dataset*. Este corpus tiene como objetivo predecir si un paciente tiene o no tiene diabetes en base a una serie de diagnósticos registrados. La muestra consiste en datos de mujeres de al menos 21 años de descendencia indígena del grupo Pima. Específicamente, existen varios atributos médicos y una variable objetivo, la columna **Outcome**. Esta columna alcanza un valor igual a 1 cuando la paciente posee diabetes, mientras que es 0 cuando no posee la enfermedad. \n",
        "\n",
        "Los resultados esperados son que puedan realizar un flujo clásico al momento de crear modelos de aprendizaje supervisado. Como mínimo se espera que se cumplan los siguientes objetivos:\n",
        "\n",
        "1. Análisis exploratorio del dataset.\n",
        "2. Aplicar los modelos aprendidos en clases.\n",
        "3. Análisis de los resultados obtenidos, de manera cuantitativa como cualitativa.\n"
      ]
    },
    {
      "cell_type": "markdown",
      "metadata": {
        "id": "BczBG1mqDfjh"
      },
      "source": [
        "**Librerías que les podrían ser útiles**"
      ]
    },
    {
      "cell_type": "code",
      "execution_count": null,
      "metadata": {
        "id": "5TNW_vHhBh3p"
      },
      "outputs": [],
      "source": [
        "import numpy as np\n",
        "import matplotlib.pyplot as plt\n",
        "import seaborn as sns\n",
        "import pandas as pd \n",
        "import csv\n",
        "import os\n",
        "from sklearn.svm import SVC\n",
        "from sklearn.tree import DecisionTreeClassifier, plot_tree\n",
        "from sklearn.ensemble import RandomForestClassifier\n",
        "from sklearn.model_selection import train_test_split\n",
        "from sklearn import preprocessing\n",
        "from sklearn.metrics import accuracy_score"
      ]
    },
    {
      "cell_type": "markdown",
      "metadata": {
        "id": "5ToDlioBEAL_"
      },
      "source": [
        "# Análisis exploratorio"
      ]
    },
    {
      "cell_type": "markdown",
      "metadata": {
        "id": "YkY7gWz9DyU0"
      },
      "source": [
        "Partamos por leer el dataset que se encuentra en el archivo `diabetes.csv`"
      ]
    },
    {
      "cell_type": "code",
      "execution_count": null,
      "metadata": {
        "id": "aUrHB3SKCQ-r"
      },
      "outputs": [],
      "source": [
        "# Respuesta\n",
        "df = pd.read_csv(\"https://raw.githubusercontent.com/fvillena/biocompu/2022/data/diabetes.csv\")"
      ]
    },
    {
      "cell_type": "markdown",
      "metadata": {
        "id": "5UQWUTCdEyHj"
      },
      "source": [
        "¿Cuántas instancias y cuántos atributos contiene el dataset?"
      ]
    },
    {
      "cell_type": "code",
      "execution_count": null,
      "metadata": {
        "id": "piVem9EoRo24"
      },
      "outputs": [],
      "source": [
        "# Respuesta\n"
      ]
    },
    {
      "cell_type": "markdown",
      "metadata": {
        "id": "jATMamEnR5QW"
      },
      "source": [
        "¿Cuáles son los nombres de los atributos (columnas)?"
      ]
    },
    {
      "cell_type": "code",
      "execution_count": null,
      "metadata": {
        "id": "IEIYW4BrR2CG"
      },
      "outputs": [],
      "source": [
        "# Respuesta\n"
      ]
    },
    {
      "cell_type": "markdown",
      "metadata": {
        "id": "rcaiKlSHSVqm"
      },
      "source": [
        "¿Cuáles son los tipos de datos presentes en nuestro dataset?"
      ]
    },
    {
      "cell_type": "code",
      "execution_count": null,
      "metadata": {
        "id": "oySMUhL9SWLJ"
      },
      "outputs": [],
      "source": [
        "# Respuesta"
      ]
    },
    {
      "cell_type": "markdown",
      "metadata": {
        "id": "vTGzAE2pFyxe"
      },
      "source": [
        "¿Hay valores nulos en nuestro dataset?"
      ]
    },
    {
      "cell_type": "code",
      "execution_count": null,
      "metadata": {
        "id": "9WDhKb1hEPwE"
      },
      "outputs": [],
      "source": [
        "# Respuesta"
      ]
    },
    {
      "cell_type": "markdown",
      "metadata": {
        "id": "tzhzTXUTTXbx"
      },
      "source": [
        "¿Cuál es la frecuencia de ejemplos en la variable objetivo **Outcome**?"
      ]
    },
    {
      "cell_type": "code",
      "execution_count": null,
      "metadata": {
        "id": "rPgo3FDWTbDx"
      },
      "outputs": [],
      "source": [
        "# Respuesta"
      ]
    },
    {
      "cell_type": "markdown",
      "metadata": {
        "id": "7fbmBbp5GNTT"
      },
      "source": [
        "Para ejercitar el uso de filtros y consultar en dataframes, responder la siguiente pregunta. ¿Cuántos pacientes mayores a 40 años padecen de diabetes?"
      ]
    },
    {
      "cell_type": "code",
      "execution_count": null,
      "metadata": {
        "id": "-gfz4nSAUKsQ"
      },
      "outputs": [],
      "source": [
        "# Respuesta"
      ]
    },
    {
      "cell_type": "markdown",
      "metadata": {
        "id": "lyyNzXjzGpBl"
      },
      "source": [
        "Para ver si existen outliers en nuestro dataset, realice un Boxplot de los siguientes atributos en el dataset: Age, BMI, Glucose, BloodPressure."
      ]
    },
    {
      "cell_type": "code",
      "execution_count": null,
      "metadata": {
        "id": "6YKSI7w1M-oh"
      },
      "outputs": [],
      "source": [
        "# Respuesta"
      ]
    },
    {
      "cell_type": "markdown",
      "metadata": {
        "id": "WEWSAR82Ncun"
      },
      "source": [
        "Veamos si existe alguna relación lineal entre distintos pares de atributos. Realice un scatter plot entre las variables Insulin y SkinThickness."
      ]
    },
    {
      "cell_type": "code",
      "execution_count": null,
      "metadata": {
        "id": "1OxH147tFOUu"
      },
      "outputs": [],
      "source": [
        "# Respuesta"
      ]
    },
    {
      "cell_type": "markdown",
      "metadata": {
        "id": "KhzAuV4hHIi8"
      },
      "source": [
        "Graficar la matriz de correlación entre todas las variables del dataset"
      ]
    },
    {
      "cell_type": "code",
      "execution_count": null,
      "metadata": {
        "id": "htRLdqSWFZBX"
      },
      "outputs": [],
      "source": [
        "# Respuesta"
      ]
    },
    {
      "cell_type": "markdown",
      "metadata": {
        "id": "K1vBBR2oHoHm"
      },
      "source": [
        "# Entrenamiento del modelo"
      ]
    },
    {
      "cell_type": "markdown",
      "metadata": {
        "id": "X9dI7S9CRyhA"
      },
      "source": [
        "Ejecute el siguiente bloque de código para separar los ejemplos `x` de las etiquetas `y`"
      ]
    },
    {
      "cell_type": "code",
      "execution_count": null,
      "metadata": {
        "id": "KJvWDtpIDOPI"
      },
      "outputs": [],
      "source": [
        "x = df.drop('Outcome', axis=1)\n",
        "y = df['Outcome']"
      ]
    },
    {
      "cell_type": "markdown",
      "metadata": {
        "id": "NvNuK8GCSHri"
      },
      "source": [
        "Separe los datos en conjunto de entrenamiento y de testeo"
      ]
    },
    {
      "cell_type": "code",
      "execution_count": null,
      "metadata": {
        "id": "ECvS5XqrSR37"
      },
      "outputs": [],
      "source": [
        "# Respuesta"
      ]
    },
    {
      "cell_type": "markdown",
      "metadata": {
        "id": "eqVBG8lZSZKK"
      },
      "source": [
        "Defina un modelo"
      ]
    },
    {
      "cell_type": "code",
      "execution_count": null,
      "metadata": {
        "id": "3eJgc7eRdDMv"
      },
      "outputs": [],
      "source": [
        "# Respuesta"
      ]
    },
    {
      "cell_type": "markdown",
      "metadata": {
        "id": "-pYm_xZvSpAK"
      },
      "source": [
        "Con el método `fit` entrenar el modelo"
      ]
    },
    {
      "cell_type": "code",
      "execution_count": null,
      "metadata": {
        "id": "wkE39UTtSpO1"
      },
      "outputs": [],
      "source": [
        "# Respuesta"
      ]
    },
    {
      "cell_type": "markdown",
      "metadata": {
        "id": "AuF5yTgiSx8Q"
      },
      "source": [
        "Obtener predicciones sobre el conjunto de testing"
      ]
    },
    {
      "cell_type": "code",
      "execution_count": null,
      "metadata": {
        "id": "bS5cuHxcdO9k"
      },
      "outputs": [],
      "source": [
        "# Respuesta"
      ]
    },
    {
      "cell_type": "markdown",
      "metadata": {
        "id": "JsD6KhF9S3e8"
      },
      "source": [
        "Obtener la métrica accuracy\n"
      ]
    },
    {
      "cell_type": "code",
      "execution_count": null,
      "metadata": {
        "id": "6QMg2NuSdYiF"
      },
      "outputs": [],
      "source": [
        "# Respuesta"
      ]
    },
    {
      "cell_type": "markdown",
      "metadata": {
        "id": "7fdsuodeEFru"
      },
      "source": [
        "# Análisis de resultados"
      ]
    },
    {
      "cell_type": "markdown",
      "metadata": {
        "id": "DaBUMkoFTIVu"
      },
      "source": [
        "> **Aquí va el análisis de los resultados obtenidos** "
      ]
    }
  ],
  "metadata": {
    "colab": {
      "collapsed_sections": [],
      "name": "Laboratorio 1.ipynb",
      "provenance": []
    },
    "kernelspec": {
      "display_name": "Python 3",
      "name": "python3"
    },
    "language_info": {
      "name": "python",
      "version": "3.10.12"
    }
  },
  "nbformat": 4,
  "nbformat_minor": 0
}
